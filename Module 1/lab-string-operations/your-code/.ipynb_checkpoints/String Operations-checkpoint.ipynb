{
 "cells": [
  {
   "cell_type": "code",
   "execution_count": 1,
   "id": "81ae5b23",
   "metadata": {},
   "outputs": [
    {
     "name": "stdout",
     "output_type": "stream",
     "text": [
      "HelloWorld\n"
     ]
    }
   ],
   "source": [
    "print('Hello' + 'World')"
   ]
  },
  {
   "cell_type": "code",
   "execution_count": 2,
   "id": "9d1dcbee",
   "metadata": {},
   "outputs": [
    {
     "name": "stdout",
     "output_type": "stream",
     "text": [
      "HelloHelloHello\n"
     ]
    }
   ],
   "source": [
    "print('Hello'*3)"
   ]
  },
  {
   "cell_type": "code",
   "execution_count": 3,
   "id": "5136f3dd",
   "metadata": {},
   "outputs": [
    {
     "data": {
      "text/plain": [
       "'Happy Puppies'"
      ]
     },
     "execution_count": 3,
     "metadata": {},
     "output_type": "execute_result"
    }
   ],
   "source": [
    "x = 'Happy'\n",
    "y = 'Puppies'\n",
    "z = [x,y]\n",
    " \n",
    "' '.join(z)"
   ]
  },
  {
   "cell_type": "code",
   "execution_count": 7,
   "id": "72501d8c",
   "metadata": {},
   "outputs": [
    {
     "name": "stdout",
     "output_type": "stream",
     "text": [
      "nameJoão\n"
     ]
    },
    {
     "data": {
      "text/plain": [
       "'My name is João'"
      ]
     },
     "execution_count": 7,
     "metadata": {},
     "output_type": "execute_result"
    }
   ],
   "source": [
    "a='My name is'\n",
    "\n",
    "b=input('name').strip().capitalize()\n",
    "\n",
    "c=[a,b]\n",
    "\n",
    "' '.join(c)"
   ]
  },
  {
   "cell_type": "code",
   "execution_count": 8,
   "id": "5aab703a",
   "metadata": {},
   "outputs": [
    {
     "data": {
      "text/plain": [
       "10"
      ]
     },
     "execution_count": 8,
     "metadata": {},
     "output_type": "execute_result"
    }
   ],
   "source": [
    "len('automobile')"
   ]
  },
  {
   "cell_type": "code",
   "execution_count": 9,
   "id": "4f879410",
   "metadata": {},
   "outputs": [
    {
     "name": "stdout",
     "output_type": "stream",
     "text": [
      "[0]\n"
     ]
    }
   ],
   "source": [
    "word='automobile'\n",
    "\n",
    "print([0])"
   ]
  },
  {
   "cell_type": "code",
   "execution_count": 10,
   "id": "abbb2c02",
   "metadata": {},
   "outputs": [
    {
     "name": "stdout",
     "output_type": "stream",
     "text": [
      "a\n"
     ]
    }
   ],
   "source": [
    "print(word[0])"
   ]
  },
  {
   "cell_type": "code",
   "execution_count": 11,
   "id": "27324624",
   "metadata": {},
   "outputs": [
    {
     "name": "stdout",
     "output_type": "stream",
     "text": [
      "e\n"
     ]
    }
   ],
   "source": [
    "print(word[-1])"
   ]
  },
  {
   "cell_type": "code",
   "execution_count": 12,
   "id": "e83cad64",
   "metadata": {},
   "outputs": [
    {
     "name": "stdout",
     "output_type": "stream",
     "text": [
      "['They', 'ate', 'the', 'mystery', 'meat.', 'It', 'tasted', 'like', 'chicken.']\n"
     ]
    }
   ],
   "source": [
    "a = 'They ate the mystery meat. It tasted like chicken.'\n",
    " \n",
    "print(a.split())\n"
   ]
  },
  {
   "cell_type": "code",
   "execution_count": 13,
   "id": "fc84636b",
   "metadata": {},
   "outputs": [
    {
     "name": "stdout",
     "output_type": "stream",
     "text": [
      "['They', 'ate', 'the', 'mystery', 'meat.', 'It', 'tasted', 'like', 'chicken.']\n"
     ]
    }
   ],
   "source": [
    "print(a.split(' '))"
   ]
  },
  {
   "cell_type": "code",
   "execution_count": 14,
   "id": "b324d147",
   "metadata": {},
   "outputs": [
    {
     "name": "stdout",
     "output_type": "stream",
     "text": [
      "['They ate the mystery meat', ' It tasted like chicken', '']\n"
     ]
    }
   ],
   "source": [
    "print(a. split('.'))"
   ]
  },
  {
   "cell_type": "code",
   "execution_count": 17,
   "id": "026d2453",
   "metadata": {},
   "outputs": [
    {
     "name": "stdout",
     "output_type": "stream",
     "text": [
      "['They a', 'e ', 'he mys', 'ery mea', '. I', ' ', 'as', 'ed like chicken.']\n"
     ]
    }
   ],
   "source": [
    "print(a. split('t'))"
   ]
  },
  {
   "cell_type": "code",
   "execution_count": 18,
   "id": "7c196a84",
   "metadata": {},
   "outputs": [
    {
     "name": "stdout",
     "output_type": "stream",
     "text": [
      "True\n"
     ]
    }
   ],
   "source": [
    "b = 'There is no business like show business.'\n",
    "\n",
    "print(b.startswith('There'))"
   ]
  },
  {
   "cell_type": "code",
   "execution_count": 19,
   "id": "74560f23",
   "metadata": {},
   "outputs": [
    {
     "name": "stdout",
     "output_type": "stream",
     "text": [
      "False\n"
     ]
    }
   ],
   "source": [
    "print(b.startswith('is'))"
   ]
  },
  {
   "cell_type": "code",
   "execution_count": 20,
   "id": "d8c0c681",
   "metadata": {},
   "outputs": [
    {
     "name": "stdout",
     "output_type": "stream",
     "text": [
      "True\n"
     ]
    }
   ],
   "source": [
    "print(b.endswith('.'))"
   ]
  },
  {
   "cell_type": "code",
   "execution_count": 21,
   "id": "d2ef2473",
   "metadata": {},
   "outputs": [
    {
     "name": "stdout",
     "output_type": "stream",
     "text": [
      "False\n"
     ]
    }
   ],
   "source": [
    "print(b.endswith('business'))"
   ]
  },
  {
   "cell_type": "code",
   "execution_count": 22,
   "id": "97899157",
   "metadata": {},
   "outputs": [
    {
     "name": "stdout",
     "output_type": "stream",
     "text": [
      "True\n"
     ]
    }
   ],
   "source": [
    "print(b.endswith('business.'))"
   ]
  },
  {
   "cell_type": "code",
   "execution_count": 23,
   "id": "92f62caa",
   "metadata": {},
   "outputs": [
    {
     "name": "stdout",
     "output_type": "stream",
     "text": [
      "True\n"
     ]
    }
   ],
   "source": [
    "print('no' in b)"
   ]
  },
  {
   "cell_type": "code",
   "execution_count": 24,
   "id": "0a16de1d",
   "metadata": {},
   "outputs": [
    {
     "name": "stdout",
     "output_type": "stream",
     "text": [
      "False\n"
     ]
    }
   ],
   "source": [
    "print('maria' in b)"
   ]
  },
  {
   "cell_type": "code",
   "execution_count": 25,
   "id": "2a15f00e",
   "metadata": {},
   "outputs": [
    {
     "name": "stdout",
     "output_type": "stream",
     "text": [
      "she had a marvelous assortment of puppets.\n"
     ]
    }
   ],
   "source": [
    "c = 'shE HaD a maRveLoUs aSsoRtmeNt of PUPPETS.'\n",
    "\n",
    "print(c.lower())"
   ]
  },
  {
   "cell_type": "code",
   "execution_count": 26,
   "id": "50527246",
   "metadata": {},
   "outputs": [
    {
     "name": "stdout",
     "output_type": "stream",
     "text": [
      "SHE HAD A MARVELOUS ASSORTMENT OF PUPPETS.\n"
     ]
    }
   ],
   "source": [
    "print(c.upper())"
   ]
  },
  {
   "cell_type": "code",
   "execution_count": 27,
   "id": "7874360b",
   "metadata": {},
   "outputs": [
    {
     "name": "stdout",
     "output_type": "stream",
     "text": [
      "She had a marvelous assortment of puppets.\n"
     ]
    }
   ],
   "source": [
    "print(c.capitalize())"
   ]
  },
  {
   "cell_type": "code",
   "execution_count": 28,
   "id": "8ad20d58",
   "metadata": {},
   "outputs": [
    {
     "name": "stdout",
     "output_type": "stream",
     "text": [
      "She Had A Marvelous Assortment Of Puppets.\n"
     ]
    }
   ],
   "source": [
    "print(c.title())\n",
    "#primeira letra de cada palavra em maiúscula"
   ]
  },
  {
   "cell_type": "code",
   "execution_count": 29,
   "id": "013847ab",
   "metadata": {},
   "outputs": [
    {
     "name": "stdout",
     "output_type": "stream",
     "text": [
      "I have a   tendency to leave trailing spaces.\n"
     ]
    }
   ],
   "source": [
    "d = ' I have a   tendency to leave trailing spaces. '\n",
    "\n",
    "print(d.strip())"
   ]
  },
  {
   "cell_type": "code",
   "execution_count": 30,
   "id": "bf60b7b5",
   "metadata": {},
   "outputs": [
    {
     "name": "stdout",
     "output_type": "stream",
     "text": [
      "I have a tendency to leave trailing spaces.\n"
     ]
    }
   ],
   "source": [
    "d = ' I have a tendency to leave trailing spaces. '\n",
    "\n",
    "print(d.strip())"
   ]
  },
  {
   "cell_type": "code",
   "execution_count": 31,
   "id": "214213a5",
   "metadata": {},
   "outputs": [
    {
     "name": "stdout",
     "output_type": "stream",
     "text": [
      "I have a tendency to leave trailing spaces. \n"
     ]
    }
   ],
   "source": [
    "print(d.lstrip())"
   ]
  },
  {
   "cell_type": "code",
   "execution_count": 33,
   "id": "6698abf0",
   "metadata": {},
   "outputs": [
    {
     "name": "stdout",
     "output_type": "stream",
     "text": [
      "I have a tendency to leave trailing spaces. \n"
     ]
    }
   ],
   "source": [
    "e = ' I have a tendency to leave trailing spaces. '\n",
    "print(e.lstrip())\n",
    "#removes the space at the beginning"
   ]
  },
  {
   "cell_type": "code",
   "execution_count": 34,
   "id": "bdf176dc",
   "metadata": {},
   "outputs": [
    {
     "name": "stdout",
     "output_type": "stream",
     "text": [
      " I have a tendency to leave trailing spaces.\n"
     ]
    }
   ],
   "source": [
    "e = ' I have a tendency to leave trailing spaces. '\n",
    "print(e.rstrip())\n",
    "#removes the space at the end"
   ]
  },
  {
   "cell_type": "code",
   "execution_count": 35,
   "id": "b552c597",
   "metadata": {},
   "outputs": [
    {
     "name": "stdout",
     "output_type": "stream",
     "text": [
      "They thought the movie was wonderful!\n"
     ]
    }
   ],
   "source": [
    "e = 'I thought the movie was wonderful!'\n",
    " \n",
    "print(e.replace('I thought', 'They thought'))"
   ]
  },
  {
   "cell_type": "code",
   "execution_count": 36,
   "id": "682e4f25",
   "metadata": {},
   "outputs": [],
   "source": [
    "import re"
   ]
  },
  {
   "cell_type": "code",
   "execution_count": null,
   "id": "75aef405",
   "metadata": {},
   "outputs": [],
   "source": [
    "#search: Returns the first instance of an expression in a string.\n",
    "#findall: Finds all instances of an expression in a string and returns them as a list.\n",
    "#split: Splits a string based on a specified delimiter.\n",
    "#sub: Substitutes a string/substring with another."
   ]
  },
  {
   "cell_type": "code",
   "execution_count": 38,
   "id": "d73ad228",
   "metadata": {},
   "outputs": [
    {
     "name": "stdout",
     "output_type": "stream",
     "text": [
      "[]\n"
     ]
    }
   ],
   "source": [
    "text = 'My neighbor, Mr. Rogers, has 5 dogs.'\n",
    "print(re.findall('my', text))"
   ]
  },
  {
   "cell_type": "code",
   "execution_count": 39,
   "id": "f6a80310",
   "metadata": {},
   "outputs": [
    {
     "name": "stdout",
     "output_type": "stream",
     "text": [
      "['My']\n"
     ]
    }
   ],
   "source": [
    "print(re.findall('My', text))"
   ]
  },
  {
   "cell_type": "code",
   "execution_count": 40,
   "id": "c6c77e2b",
   "metadata": {},
   "outputs": [
    {
     "name": "stdout",
     "output_type": "stream",
     "text": [
      "['n', 'g', 'b', 'o', 'r', 'r', 'o', 'g', 'r', 's', 's', 'o', 'g', 's']\n"
     ]
    }
   ],
   "source": [
    "print(re.findall('[mngbors]', text))"
   ]
  },
  {
   "cell_type": "code",
   "execution_count": 65,
   "id": "fe136820",
   "metadata": {},
   "outputs": [
    {
     "name": "stdout",
     "output_type": "stream",
     "text": [
      "<re.Match object; span=(11, 12), match=','>\n"
     ]
    }
   ],
   "source": [
    "print(re.search(',', text))\n",
    "\n",
    "#O QUE É SPAN? mostra o inicio e fim do index da palavra que buscamos"
   ]
  },
  {
   "cell_type": "code",
   "execution_count": 66,
   "id": "2acd6770",
   "metadata": {},
   "outputs": [
    {
     "name": "stdout",
     "output_type": "stream",
     "text": [
      "<re.Match object; span=(25, 28), match='has'>\n"
     ]
    }
   ],
   "source": [
    "print(re.search('has', text))"
   ]
  },
  {
   "cell_type": "code",
   "execution_count": 43,
   "id": "9b0092df",
   "metadata": {},
   "outputs": [
    {
     "name": "stdout",
     "output_type": "stream",
     "text": [
      "found word:cat\n"
     ]
    }
   ],
   "source": [
    "str = 'an example word:cat!!'\n",
    "match = re.search(r'word:\\w\\w\\w', str)\n",
    "# If-statement after search() tests if it succeeded\n",
    "if match:\n",
    "  print('found', match.group()) ## 'found word:cat'\n",
    "else:\n",
    "  print('did not find')"
   ]
  },
  {
   "cell_type": "code",
   "execution_count": 46,
   "id": "2041a15b",
   "metadata": {},
   "outputs": [
    {
     "name": "stdout",
     "output_type": "stream",
     "text": [
      "['y', 'n', 'e', 'i', 'g', 'h', 'b', 'o', 'r', 'r', 'o', 'g', 'e', 'r', 's', 'h', 'a', 's', 'd', 'o', 'g', 's']\n"
     ]
    }
   ],
   "source": [
    "print(re.findall('[a-z]', text))"
   ]
  },
  {
   "cell_type": "code",
   "execution_count": 48,
   "id": "6fa3ccd4",
   "metadata": {},
   "outputs": [
    {
     "name": "stdout",
     "output_type": "stream",
     "text": [
      "['M', ' ', ',', ' ', 'M', '.', ' ', 'R', ',', ' ', ' ', '5', ' ', '.']\n"
     ]
    }
   ],
   "source": [
    "print(re.findall('[^a-z]', text))\n",
    "#We can add the ^ character inside the square brackets to return everything that doesn't match the sequence we have designated."
   ]
  },
  {
   "cell_type": "code",
   "execution_count": 49,
   "id": "46156193",
   "metadata": {},
   "outputs": [
    {
     "name": "stdout",
     "output_type": "stream",
     "text": [
      "['M', 'y', 'n', 'e', 'i', 'g', 'h', 'b', 'o', 'r', 'M', 'r', 'R', 'o', 'g', 'e', 'r', 's', 'h', 'a', 's', 'd', 'o', 'g', 's']\n"
     ]
    }
   ],
   "source": [
    "print(re.findall('[a-zA-Z]', text))\n",
    "#to extract both upper and lower case letters from our string"
   ]
  },
  {
   "cell_type": "code",
   "execution_count": 50,
   "id": "53c91f14",
   "metadata": {},
   "outputs": [
    {
     "name": "stdout",
     "output_type": "stream",
     "text": [
      "['M', 'y', ' ', 'n', 'e', 'i', 'g', 'h', 'b', 'o', 'r', ' ', 'M', 'r', ' ', 'R', 'o', 'g', 'e', 'r', 's', ' ', 'h', 'a', 's', ' ', ' ', 'd', 'o', 'g', 's']\n"
     ]
    }
   ],
   "source": [
    "print(re.findall('[a-zA-Z ]', text))\n",
    "#to also extract spaces, we can add a space."
   ]
  },
  {
   "cell_type": "code",
   "execution_count": null,
   "id": "7e3d0efe",
   "metadata": {},
   "outputs": [],
   "source": [
    "#STRING OPERATIONS\n",
    "#Once we get to a point where we are adding multiple things to our regular expression, we will want to leverage additional shortcuts called character classes (also known as special sequences). Below are some of the most useful ones and what they match.\n",
    "\n",
    "# \\w: Any alphanumeric character.\n",
    "# \\W: Any non-alphanumeric character.\n",
    "# \\d: Any numeric character.\n",
    "# \\D: Any non-numeric character.\n",
    "# \\s: Any whitespace characters.\n",
    "# \\S: Any non-whitespace characters.\n",
    "# . (sem o square brackets): Any character except newline (\\n)."
   ]
  },
  {
   "cell_type": "code",
   "execution_count": 51,
   "id": "56187cf5",
   "metadata": {},
   "outputs": [
    {
     "name": "stdout",
     "output_type": "stream",
     "text": [
      "['M', 'y', 'n', 'e', 'i', 'g', 'h', 'b', 'o', 'r', 'M', 'r', 'R', 'o', 'g', 'e', 'r', 's', 'h', 'a', 's', '5', 'd', 'o', 'g', 's']\n"
     ]
    }
   ],
   "source": [
    "print(re.findall('[\\w]', text))"
   ]
  },
  {
   "cell_type": "code",
   "execution_count": 52,
   "id": "e445979e",
   "metadata": {},
   "outputs": [
    {
     "name": "stdout",
     "output_type": "stream",
     "text": [
      "[' ', ',', ' ', '.', ' ', ',', ' ', ' ', ' ', '.']\n"
     ]
    }
   ],
   "source": [
    "print(re.findall('[\\W]', text))"
   ]
  },
  {
   "cell_type": "code",
   "execution_count": 53,
   "id": "6456672a",
   "metadata": {},
   "outputs": [
    {
     "name": "stdout",
     "output_type": "stream",
     "text": [
      "['5']\n"
     ]
    }
   ],
   "source": [
    "print(re.findall('[\\d]', text))"
   ]
  },
  {
   "cell_type": "code",
   "execution_count": 54,
   "id": "39cb713b",
   "metadata": {},
   "outputs": [
    {
     "name": "stdout",
     "output_type": "stream",
     "text": [
      "['M', 'y', ' ', 'n', 'e', 'i', 'g', 'h', 'b', 'o', 'r', ',', ' ', 'M', 'r', '.', ' ', 'R', 'o', 'g', 'e', 'r', 's', ',', ' ', 'h', 'a', 's', ' ', ' ', 'd', 'o', 'g', 's', '.']\n"
     ]
    }
   ],
   "source": [
    "print(re.findall('[\\D]', text))"
   ]
  },
  {
   "cell_type": "code",
   "execution_count": 55,
   "id": "5b501ee7",
   "metadata": {},
   "outputs": [
    {
     "name": "stdout",
     "output_type": "stream",
     "text": [
      "[' ', ' ', ' ', ' ', ' ', ' ']\n"
     ]
    }
   ],
   "source": [
    "print(re.findall('[\\s]', text))"
   ]
  },
  {
   "cell_type": "code",
   "execution_count": 56,
   "id": "4af3d159",
   "metadata": {},
   "outputs": [
    {
     "name": "stdout",
     "output_type": "stream",
     "text": [
      "['M', 'y', 'n', 'e', 'i', 'g', 'h', 'b', 'o', 'r', ',', 'M', 'r', '.', 'R', 'o', 'g', 'e', 'r', 's', ',', 'h', 'a', 's', '5', 'd', 'o', 'g', 's', '.']\n"
     ]
    }
   ],
   "source": [
    "print(re.findall('[\\S]', text))"
   ]
  },
  {
   "cell_type": "code",
   "execution_count": 57,
   "id": "faea65f3",
   "metadata": {},
   "outputs": [
    {
     "name": "stdout",
     "output_type": "stream",
     "text": [
      "['.', '.']\n"
     ]
    }
   ],
   "source": [
    "print(re.findall('[.]', text))"
   ]
  },
  {
   "cell_type": "code",
   "execution_count": 58,
   "id": "7c9116fb",
   "metadata": {},
   "outputs": [
    {
     "name": "stdout",
     "output_type": "stream",
     "text": [
      "['M', 'y', ' ', 'n', 'e', 'i', 'g', 'h', 'b', 'o', 'r', ',', ' ', 'M', 'r', '.', ' ', 'R', 'o', 'g', 'e', 'r', 's', ',', ' ', 'h', 'a', 's', ' ', '5', ' ', 'd', 'o', 'g', 's', '.']\n"
     ]
    }
   ],
   "source": [
    "print(re.findall('.', text))"
   ]
  },
  {
   "cell_type": "code",
   "execution_count": 59,
   "id": "9893a945",
   "metadata": {},
   "outputs": [
    {
     "name": "stdout",
     "output_type": "stream",
     "text": [
      "['My neighbor', 'Mr. Rogers', 'has 5 dogs.']\n"
     ]
    }
   ],
   "source": [
    "print(re.split(', ', text))"
   ]
  },
  {
   "cell_type": "code",
   "execution_count": 60,
   "id": "b3cebb16",
   "metadata": {},
   "outputs": [
    {
     "name": "stdout",
     "output_type": "stream",
     "text": [
      "['My neighbor', ' Mr. Rogers', ' has 5 dogs.']\n"
     ]
    }
   ],
   "source": [
    "print(text.split(','))"
   ]
  },
  {
   "cell_type": "code",
   "execution_count": 61,
   "id": "18ec611a",
   "metadata": {},
   "outputs": [
    {
     "name": "stdout",
     "output_type": "stream",
     "text": [
      "['My neighbor, Mr. Rogers, has ', ' dogs.']\n"
     ]
    }
   ],
   "source": [
    "print(re.split('[0-9]', text))"
   ]
  },
  {
   "cell_type": "code",
   "execution_count": 62,
   "id": "496787d1",
   "metadata": {},
   "outputs": [
    {
     "name": "stdout",
     "output_type": "stream",
     "text": [
      "['My neighbor, Mr. Rogers, has 5 ', 'ogs.']\n"
     ]
    }
   ],
   "source": [
    "print(re.split('[/d]', text))\n",
    "#lê como a letra d, e não o comando de números"
   ]
  },
  {
   "cell_type": "code",
   "execution_count": 63,
   "id": "91c53cf8",
   "metadata": {},
   "outputs": [
    {
     "name": "stdout",
     "output_type": "stream",
     "text": [
      "My neighbor, Mr. Rogers, has 10 dogs.\n"
     ]
    }
   ],
   "source": [
    "print(re.sub('[0-9]','10',text))\n"
   ]
  },
  {
   "cell_type": "code",
   "execution_count": 69,
   "id": "57a7ffa0",
   "metadata": {},
   "outputs": [
    {
     "name": "stdout",
     "output_type": "stream",
     "text": [
      "My neighbor, Mr. Rogers, has 10 dogs.\n"
     ]
    }
   ],
   "source": [
    "print(text.replace('5', '10'))"
   ]
  },
  {
   "cell_type": "code",
   "execution_count": 71,
   "id": "b16ca93a",
   "metadata": {},
   "outputs": [],
   "source": [
    "frase='Eu nasci em 24 de novembro de 1993.'"
   ]
  },
  {
   "cell_type": "code",
   "execution_count": 72,
   "id": "02fbed08",
   "metadata": {},
   "outputs": [
    {
     "name": "stdout",
     "output_type": "stream",
     "text": [
      "Eu nasci em 1010 de novembro de 10101010.\n"
     ]
    }
   ],
   "source": [
    "print(re.sub('[0-9]','10',frase))\n",
    "#igual ao replace mas util quando nao sabemos qual numero tem ou quando tem numeros diferentes"
   ]
  },
  {
   "cell_type": "code",
   "execution_count": null,
   "id": "f405196c",
   "metadata": {},
   "outputs": [],
   "source": []
  }
 ],
 "metadata": {
  "kernelspec": {
   "display_name": "Python 3",
   "language": "python",
   "name": "python3"
  },
  "language_info": {
   "codemirror_mode": {
    "name": "ipython",
    "version": 3
   },
   "file_extension": ".py",
   "mimetype": "text/x-python",
   "name": "python",
   "nbconvert_exporter": "python",
   "pygments_lexer": "ipython3",
   "version": "3.8.8"
  }
 },
 "nbformat": 4,
 "nbformat_minor": 5
}
